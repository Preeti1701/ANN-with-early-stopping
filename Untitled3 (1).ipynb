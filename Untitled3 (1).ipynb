{
  "cells": [
    {
      "cell_type": "code",
      "execution_count": 1,
      "metadata": {
        "colab": {
          "base_uri": "https://localhost:8080/"
        },
        "id": "pJpUR4sr-zEe",
        "outputId": "93a16ffd-1a49-4268-a091-39c33e724af5"
      },
      "outputs": [
        {
          "output_type": "stream",
          "name": "stdout",
          "text": [
            "Looking in indexes: https://pypi.org/simple, https://us-python.pkg.dev/colab-wheels/public/simple/\n",
            "Requirement already satisfied: tensorflow in /usr/local/lib/python3.8/dist-packages (2.11.0)\n",
            "Requirement already satisfied: opt-einsum>=2.3.2 in /usr/local/lib/python3.8/dist-packages (from tensorflow) (3.3.0)\n",
            "Requirement already satisfied: keras<2.12,>=2.11.0 in /usr/local/lib/python3.8/dist-packages (from tensorflow) (2.11.0)\n",
            "Requirement already satisfied: flatbuffers>=2.0 in /usr/local/lib/python3.8/dist-packages (from tensorflow) (23.1.21)\n",
            "Requirement already satisfied: h5py>=2.9.0 in /usr/local/lib/python3.8/dist-packages (from tensorflow) (3.1.0)\n",
            "Requirement already satisfied: tensorflow-estimator<2.12,>=2.11.0 in /usr/local/lib/python3.8/dist-packages (from tensorflow) (2.11.0)\n",
            "Requirement already satisfied: libclang>=13.0.0 in /usr/local/lib/python3.8/dist-packages (from tensorflow) (15.0.6.1)\n",
            "Requirement already satisfied: absl-py>=1.0.0 in /usr/local/lib/python3.8/dist-packages (from tensorflow) (1.4.0)\n",
            "Requirement already satisfied: protobuf<3.20,>=3.9.2 in /usr/local/lib/python3.8/dist-packages (from tensorflow) (3.19.6)\n",
            "Requirement already satisfied: google-pasta>=0.1.1 in /usr/local/lib/python3.8/dist-packages (from tensorflow) (0.2.0)\n",
            "Requirement already satisfied: packaging in /usr/local/lib/python3.8/dist-packages (from tensorflow) (23.0)\n",
            "Requirement already satisfied: typing-extensions>=3.6.6 in /usr/local/lib/python3.8/dist-packages (from tensorflow) (4.5.0)\n",
            "Requirement already satisfied: numpy>=1.20 in /usr/local/lib/python3.8/dist-packages (from tensorflow) (1.21.6)\n",
            "Requirement already satisfied: gast<=0.4.0,>=0.2.1 in /usr/local/lib/python3.8/dist-packages (from tensorflow) (0.4.0)\n",
            "Requirement already satisfied: setuptools in /usr/local/lib/python3.8/dist-packages (from tensorflow) (57.4.0)\n",
            "Requirement already satisfied: tensorboard<2.12,>=2.11 in /usr/local/lib/python3.8/dist-packages (from tensorflow) (2.11.2)\n",
            "Requirement already satisfied: wrapt>=1.11.0 in /usr/local/lib/python3.8/dist-packages (from tensorflow) (1.14.1)\n",
            "Requirement already satisfied: tensorflow-io-gcs-filesystem>=0.23.1 in /usr/local/lib/python3.8/dist-packages (from tensorflow) (0.30.0)\n",
            "Requirement already satisfied: astunparse>=1.6.0 in /usr/local/lib/python3.8/dist-packages (from tensorflow) (1.6.3)\n",
            "Requirement already satisfied: grpcio<2.0,>=1.24.3 in /usr/local/lib/python3.8/dist-packages (from tensorflow) (1.51.1)\n",
            "Requirement already satisfied: termcolor>=1.1.0 in /usr/local/lib/python3.8/dist-packages (from tensorflow) (2.2.0)\n",
            "Requirement already satisfied: six>=1.12.0 in /usr/local/lib/python3.8/dist-packages (from tensorflow) (1.15.0)\n",
            "Requirement already satisfied: wheel<1.0,>=0.23.0 in /usr/local/lib/python3.8/dist-packages (from astunparse>=1.6.0->tensorflow) (0.38.4)\n",
            "Requirement already satisfied: requests<3,>=2.21.0 in /usr/local/lib/python3.8/dist-packages (from tensorboard<2.12,>=2.11->tensorflow) (2.25.1)\n",
            "Requirement already satisfied: tensorboard-plugin-wit>=1.6.0 in /usr/local/lib/python3.8/dist-packages (from tensorboard<2.12,>=2.11->tensorflow) (1.8.1)\n",
            "Requirement already satisfied: werkzeug>=1.0.1 in /usr/local/lib/python3.8/dist-packages (from tensorboard<2.12,>=2.11->tensorflow) (1.0.1)\n",
            "Requirement already satisfied: google-auth-oauthlib<0.5,>=0.4.1 in /usr/local/lib/python3.8/dist-packages (from tensorboard<2.12,>=2.11->tensorflow) (0.4.6)\n",
            "Requirement already satisfied: google-auth<3,>=1.6.3 in /usr/local/lib/python3.8/dist-packages (from tensorboard<2.12,>=2.11->tensorflow) (2.16.0)\n",
            "Requirement already satisfied: tensorboard-data-server<0.7.0,>=0.6.0 in /usr/local/lib/python3.8/dist-packages (from tensorboard<2.12,>=2.11->tensorflow) (0.6.1)\n",
            "Requirement already satisfied: markdown>=2.6.8 in /usr/local/lib/python3.8/dist-packages (from tensorboard<2.12,>=2.11->tensorflow) (3.4.1)\n",
            "Requirement already satisfied: pyasn1-modules>=0.2.1 in /usr/local/lib/python3.8/dist-packages (from google-auth<3,>=1.6.3->tensorboard<2.12,>=2.11->tensorflow) (0.2.8)\n",
            "Requirement already satisfied: rsa<5,>=3.1.4 in /usr/local/lib/python3.8/dist-packages (from google-auth<3,>=1.6.3->tensorboard<2.12,>=2.11->tensorflow) (4.9)\n",
            "Requirement already satisfied: cachetools<6.0,>=2.0.0 in /usr/local/lib/python3.8/dist-packages (from google-auth<3,>=1.6.3->tensorboard<2.12,>=2.11->tensorflow) (5.3.0)\n",
            "Requirement already satisfied: requests-oauthlib>=0.7.0 in /usr/local/lib/python3.8/dist-packages (from google-auth-oauthlib<0.5,>=0.4.1->tensorboard<2.12,>=2.11->tensorflow) (1.3.1)\n",
            "Requirement already satisfied: importlib-metadata>=4.4 in /usr/local/lib/python3.8/dist-packages (from markdown>=2.6.8->tensorboard<2.12,>=2.11->tensorflow) (6.0.0)\n",
            "Requirement already satisfied: urllib3<1.27,>=1.21.1 in /usr/local/lib/python3.8/dist-packages (from requests<3,>=2.21.0->tensorboard<2.12,>=2.11->tensorflow) (1.24.3)\n",
            "Requirement already satisfied: idna<3,>=2.5 in /usr/local/lib/python3.8/dist-packages (from requests<3,>=2.21.0->tensorboard<2.12,>=2.11->tensorflow) (2.10)\n",
            "Requirement already satisfied: chardet<5,>=3.0.2 in /usr/local/lib/python3.8/dist-packages (from requests<3,>=2.21.0->tensorboard<2.12,>=2.11->tensorflow) (4.0.0)\n",
            "Requirement already satisfied: certifi>=2017.4.17 in /usr/local/lib/python3.8/dist-packages (from requests<3,>=2.21.0->tensorboard<2.12,>=2.11->tensorflow) (2022.12.7)\n",
            "Requirement already satisfied: zipp>=0.5 in /usr/local/lib/python3.8/dist-packages (from importlib-metadata>=4.4->markdown>=2.6.8->tensorboard<2.12,>=2.11->tensorflow) (3.13.0)\n",
            "Requirement already satisfied: pyasn1<0.5.0,>=0.4.6 in /usr/local/lib/python3.8/dist-packages (from pyasn1-modules>=0.2.1->google-auth<3,>=1.6.3->tensorboard<2.12,>=2.11->tensorflow) (0.4.8)\n",
            "Requirement already satisfied: oauthlib>=3.0.0 in /usr/local/lib/python3.8/dist-packages (from requests-oauthlib>=0.7.0->google-auth-oauthlib<0.5,>=0.4.1->tensorboard<2.12,>=2.11->tensorflow) (3.2.2)\n"
          ]
        }
      ],
      "source": [
        "!pip install tensorflow"
      ]
    },
    {
      "cell_type": "code",
      "execution_count": 2,
      "metadata": {
        "colab": {
          "base_uri": "https://localhost:8080/"
        },
        "id": "YmanZsvS_HxM",
        "outputId": "5f90e836-321c-421b-e4ea-b9ea7b6dbd5d"
      },
      "outputs": [
        {
          "output_type": "stream",
          "name": "stdout",
          "text": [
            "2.11.0\n"
          ]
        }
      ],
      "source": [
        "import tensorflow as tf\n",
        "print(tf.__version__)"
      ]
    },
    {
      "cell_type": "code",
      "execution_count": 3,
      "metadata": {
        "id": "Ofbu_37-_S7b"
      },
      "outputs": [],
      "source": [
        "#import basics libraries\n",
        "import numpy as np\n",
        "import matplotlib.pyplot as plt\n",
        "import pandas as pd"
      ]
    },
    {
      "cell_type": "code",
      "execution_count": 4,
      "metadata": {
        "id": "ySe1t5kS_qmm"
      },
      "outputs": [],
      "source": [
        "dataset=pd.read_csv('Churn_Modelling.csv')"
      ]
    },
    {
      "cell_type": "code",
      "execution_count": 5,
      "metadata": {
        "colab": {
          "base_uri": "https://localhost:8080/",
          "height": 270
        },
        "id": "eKhKI2lM_5lq",
        "outputId": "937aa967-17f1-4b86-f142-8e6cb8ee7a1c"
      },
      "outputs": [
        {
          "output_type": "execute_result",
          "data": {
            "text/plain": [
              "   RowNumber  CustomerId   Surname  CreditScore Geography  Gender  Age  \\\n",
              "0          1    15634602  Hargrave          619    France  Female   42   \n",
              "1          2    15647311      Hill          608     Spain  Female   41   \n",
              "2          3    15619304      Onio          502    France  Female   42   \n",
              "3          4    15701354      Boni          699    France  Female   39   \n",
              "4          5    15737888  Mitchell          850     Spain  Female   43   \n",
              "\n",
              "   Tenure    Balance  NumOfProducts  HasCrCard  IsActiveMember  \\\n",
              "0       2       0.00              1          1               1   \n",
              "1       1   83807.86              1          0               1   \n",
              "2       8  159660.80              3          1               0   \n",
              "3       1       0.00              2          0               0   \n",
              "4       2  125510.82              1          1               1   \n",
              "\n",
              "   EstimatedSalary  Exited  \n",
              "0        101348.88       1  \n",
              "1        112542.58       0  \n",
              "2        113931.57       1  \n",
              "3         93826.63       0  \n",
              "4         79084.10       0  "
            ],
            "text/html": [
              "\n",
              "  <div id=\"df-14c64293-26ff-4959-9ee2-48cf63637ab3\">\n",
              "    <div class=\"colab-df-container\">\n",
              "      <div>\n",
              "<style scoped>\n",
              "    .dataframe tbody tr th:only-of-type {\n",
              "        vertical-align: middle;\n",
              "    }\n",
              "\n",
              "    .dataframe tbody tr th {\n",
              "        vertical-align: top;\n",
              "    }\n",
              "\n",
              "    .dataframe thead th {\n",
              "        text-align: right;\n",
              "    }\n",
              "</style>\n",
              "<table border=\"1\" class=\"dataframe\">\n",
              "  <thead>\n",
              "    <tr style=\"text-align: right;\">\n",
              "      <th></th>\n",
              "      <th>RowNumber</th>\n",
              "      <th>CustomerId</th>\n",
              "      <th>Surname</th>\n",
              "      <th>CreditScore</th>\n",
              "      <th>Geography</th>\n",
              "      <th>Gender</th>\n",
              "      <th>Age</th>\n",
              "      <th>Tenure</th>\n",
              "      <th>Balance</th>\n",
              "      <th>NumOfProducts</th>\n",
              "      <th>HasCrCard</th>\n",
              "      <th>IsActiveMember</th>\n",
              "      <th>EstimatedSalary</th>\n",
              "      <th>Exited</th>\n",
              "    </tr>\n",
              "  </thead>\n",
              "  <tbody>\n",
              "    <tr>\n",
              "      <th>0</th>\n",
              "      <td>1</td>\n",
              "      <td>15634602</td>\n",
              "      <td>Hargrave</td>\n",
              "      <td>619</td>\n",
              "      <td>France</td>\n",
              "      <td>Female</td>\n",
              "      <td>42</td>\n",
              "      <td>2</td>\n",
              "      <td>0.00</td>\n",
              "      <td>1</td>\n",
              "      <td>1</td>\n",
              "      <td>1</td>\n",
              "      <td>101348.88</td>\n",
              "      <td>1</td>\n",
              "    </tr>\n",
              "    <tr>\n",
              "      <th>1</th>\n",
              "      <td>2</td>\n",
              "      <td>15647311</td>\n",
              "      <td>Hill</td>\n",
              "      <td>608</td>\n",
              "      <td>Spain</td>\n",
              "      <td>Female</td>\n",
              "      <td>41</td>\n",
              "      <td>1</td>\n",
              "      <td>83807.86</td>\n",
              "      <td>1</td>\n",
              "      <td>0</td>\n",
              "      <td>1</td>\n",
              "      <td>112542.58</td>\n",
              "      <td>0</td>\n",
              "    </tr>\n",
              "    <tr>\n",
              "      <th>2</th>\n",
              "      <td>3</td>\n",
              "      <td>15619304</td>\n",
              "      <td>Onio</td>\n",
              "      <td>502</td>\n",
              "      <td>France</td>\n",
              "      <td>Female</td>\n",
              "      <td>42</td>\n",
              "      <td>8</td>\n",
              "      <td>159660.80</td>\n",
              "      <td>3</td>\n",
              "      <td>1</td>\n",
              "      <td>0</td>\n",
              "      <td>113931.57</td>\n",
              "      <td>1</td>\n",
              "    </tr>\n",
              "    <tr>\n",
              "      <th>3</th>\n",
              "      <td>4</td>\n",
              "      <td>15701354</td>\n",
              "      <td>Boni</td>\n",
              "      <td>699</td>\n",
              "      <td>France</td>\n",
              "      <td>Female</td>\n",
              "      <td>39</td>\n",
              "      <td>1</td>\n",
              "      <td>0.00</td>\n",
              "      <td>2</td>\n",
              "      <td>0</td>\n",
              "      <td>0</td>\n",
              "      <td>93826.63</td>\n",
              "      <td>0</td>\n",
              "    </tr>\n",
              "    <tr>\n",
              "      <th>4</th>\n",
              "      <td>5</td>\n",
              "      <td>15737888</td>\n",
              "      <td>Mitchell</td>\n",
              "      <td>850</td>\n",
              "      <td>Spain</td>\n",
              "      <td>Female</td>\n",
              "      <td>43</td>\n",
              "      <td>2</td>\n",
              "      <td>125510.82</td>\n",
              "      <td>1</td>\n",
              "      <td>1</td>\n",
              "      <td>1</td>\n",
              "      <td>79084.10</td>\n",
              "      <td>0</td>\n",
              "    </tr>\n",
              "  </tbody>\n",
              "</table>\n",
              "</div>\n",
              "      <button class=\"colab-df-convert\" onclick=\"convertToInteractive('df-14c64293-26ff-4959-9ee2-48cf63637ab3')\"\n",
              "              title=\"Convert this dataframe to an interactive table.\"\n",
              "              style=\"display:none;\">\n",
              "        \n",
              "  <svg xmlns=\"http://www.w3.org/2000/svg\" height=\"24px\"viewBox=\"0 0 24 24\"\n",
              "       width=\"24px\">\n",
              "    <path d=\"M0 0h24v24H0V0z\" fill=\"none\"/>\n",
              "    <path d=\"M18.56 5.44l.94 2.06.94-2.06 2.06-.94-2.06-.94-.94-2.06-.94 2.06-2.06.94zm-11 1L8.5 8.5l.94-2.06 2.06-.94-2.06-.94L8.5 2.5l-.94 2.06-2.06.94zm10 10l.94 2.06.94-2.06 2.06-.94-2.06-.94-.94-2.06-.94 2.06-2.06.94z\"/><path d=\"M17.41 7.96l-1.37-1.37c-.4-.4-.92-.59-1.43-.59-.52 0-1.04.2-1.43.59L10.3 9.45l-7.72 7.72c-.78.78-.78 2.05 0 2.83L4 21.41c.39.39.9.59 1.41.59.51 0 1.02-.2 1.41-.59l7.78-7.78 2.81-2.81c.8-.78.8-2.07 0-2.86zM5.41 20L4 18.59l7.72-7.72 1.47 1.35L5.41 20z\"/>\n",
              "  </svg>\n",
              "      </button>\n",
              "      \n",
              "  <style>\n",
              "    .colab-df-container {\n",
              "      display:flex;\n",
              "      flex-wrap:wrap;\n",
              "      gap: 12px;\n",
              "    }\n",
              "\n",
              "    .colab-df-convert {\n",
              "      background-color: #E8F0FE;\n",
              "      border: none;\n",
              "      border-radius: 50%;\n",
              "      cursor: pointer;\n",
              "      display: none;\n",
              "      fill: #1967D2;\n",
              "      height: 32px;\n",
              "      padding: 0 0 0 0;\n",
              "      width: 32px;\n",
              "    }\n",
              "\n",
              "    .colab-df-convert:hover {\n",
              "      background-color: #E2EBFA;\n",
              "      box-shadow: 0px 1px 2px rgba(60, 64, 67, 0.3), 0px 1px 3px 1px rgba(60, 64, 67, 0.15);\n",
              "      fill: #174EA6;\n",
              "    }\n",
              "\n",
              "    [theme=dark] .colab-df-convert {\n",
              "      background-color: #3B4455;\n",
              "      fill: #D2E3FC;\n",
              "    }\n",
              "\n",
              "    [theme=dark] .colab-df-convert:hover {\n",
              "      background-color: #434B5C;\n",
              "      box-shadow: 0px 1px 3px 1px rgba(0, 0, 0, 0.15);\n",
              "      filter: drop-shadow(0px 1px 2px rgba(0, 0, 0, 0.3));\n",
              "      fill: #FFFFFF;\n",
              "    }\n",
              "  </style>\n",
              "\n",
              "      <script>\n",
              "        const buttonEl =\n",
              "          document.querySelector('#df-14c64293-26ff-4959-9ee2-48cf63637ab3 button.colab-df-convert');\n",
              "        buttonEl.style.display =\n",
              "          google.colab.kernel.accessAllowed ? 'block' : 'none';\n",
              "\n",
              "        async function convertToInteractive(key) {\n",
              "          const element = document.querySelector('#df-14c64293-26ff-4959-9ee2-48cf63637ab3');\n",
              "          const dataTable =\n",
              "            await google.colab.kernel.invokeFunction('convertToInteractive',\n",
              "                                                     [key], {});\n",
              "          if (!dataTable) return;\n",
              "\n",
              "          const docLinkHtml = 'Like what you see? Visit the ' +\n",
              "            '<a target=\"_blank\" href=https://colab.research.google.com/notebooks/data_table.ipynb>data table notebook</a>'\n",
              "            + ' to learn more about interactive tables.';\n",
              "          element.innerHTML = '';\n",
              "          dataTable['output_type'] = 'display_data';\n",
              "          await google.colab.output.renderOutput(dataTable, element);\n",
              "          const docLink = document.createElement('div');\n",
              "          docLink.innerHTML = docLinkHtml;\n",
              "          element.appendChild(docLink);\n",
              "        }\n",
              "      </script>\n",
              "    </div>\n",
              "  </div>\n",
              "  "
            ]
          },
          "metadata": {},
          "execution_count": 5
        }
      ],
      "source": [
        "dataset.head()"
      ]
    },
    {
      "cell_type": "code",
      "execution_count": 6,
      "metadata": {
        "id": "AzBzWEOtABIn"
      },
      "outputs": [],
      "source": [
        "#divide dataset into dependent and independent feature"
      ]
    },
    {
      "cell_type": "code",
      "execution_count": 7,
      "metadata": {
        "colab": {
          "base_uri": "https://localhost:8080/",
          "height": 270
        },
        "id": "rx02l9I4AP3u",
        "outputId": "409f6749-569a-47b2-8216-0c34709f4453"
      },
      "outputs": [
        {
          "output_type": "execute_result",
          "data": {
            "text/plain": [
              "   CreditScore Geography  Gender  Age  Tenure    Balance  NumOfProducts  \\\n",
              "0          619    France  Female   42       2       0.00              1   \n",
              "1          608     Spain  Female   41       1   83807.86              1   \n",
              "2          502    France  Female   42       8  159660.80              3   \n",
              "3          699    France  Female   39       1       0.00              2   \n",
              "4          850     Spain  Female   43       2  125510.82              1   \n",
              "\n",
              "   HasCrCard  IsActiveMember  EstimatedSalary  \n",
              "0          1               1        101348.88  \n",
              "1          0               1        112542.58  \n",
              "2          1               0        113931.57  \n",
              "3          0               0         93826.63  \n",
              "4          1               1         79084.10  "
            ],
            "text/html": [
              "\n",
              "  <div id=\"df-214efc40-83e7-4a85-b446-df222b626033\">\n",
              "    <div class=\"colab-df-container\">\n",
              "      <div>\n",
              "<style scoped>\n",
              "    .dataframe tbody tr th:only-of-type {\n",
              "        vertical-align: middle;\n",
              "    }\n",
              "\n",
              "    .dataframe tbody tr th {\n",
              "        vertical-align: top;\n",
              "    }\n",
              "\n",
              "    .dataframe thead th {\n",
              "        text-align: right;\n",
              "    }\n",
              "</style>\n",
              "<table border=\"1\" class=\"dataframe\">\n",
              "  <thead>\n",
              "    <tr style=\"text-align: right;\">\n",
              "      <th></th>\n",
              "      <th>CreditScore</th>\n",
              "      <th>Geography</th>\n",
              "      <th>Gender</th>\n",
              "      <th>Age</th>\n",
              "      <th>Tenure</th>\n",
              "      <th>Balance</th>\n",
              "      <th>NumOfProducts</th>\n",
              "      <th>HasCrCard</th>\n",
              "      <th>IsActiveMember</th>\n",
              "      <th>EstimatedSalary</th>\n",
              "    </tr>\n",
              "  </thead>\n",
              "  <tbody>\n",
              "    <tr>\n",
              "      <th>0</th>\n",
              "      <td>619</td>\n",
              "      <td>France</td>\n",
              "      <td>Female</td>\n",
              "      <td>42</td>\n",
              "      <td>2</td>\n",
              "      <td>0.00</td>\n",
              "      <td>1</td>\n",
              "      <td>1</td>\n",
              "      <td>1</td>\n",
              "      <td>101348.88</td>\n",
              "    </tr>\n",
              "    <tr>\n",
              "      <th>1</th>\n",
              "      <td>608</td>\n",
              "      <td>Spain</td>\n",
              "      <td>Female</td>\n",
              "      <td>41</td>\n",
              "      <td>1</td>\n",
              "      <td>83807.86</td>\n",
              "      <td>1</td>\n",
              "      <td>0</td>\n",
              "      <td>1</td>\n",
              "      <td>112542.58</td>\n",
              "    </tr>\n",
              "    <tr>\n",
              "      <th>2</th>\n",
              "      <td>502</td>\n",
              "      <td>France</td>\n",
              "      <td>Female</td>\n",
              "      <td>42</td>\n",
              "      <td>8</td>\n",
              "      <td>159660.80</td>\n",
              "      <td>3</td>\n",
              "      <td>1</td>\n",
              "      <td>0</td>\n",
              "      <td>113931.57</td>\n",
              "    </tr>\n",
              "    <tr>\n",
              "      <th>3</th>\n",
              "      <td>699</td>\n",
              "      <td>France</td>\n",
              "      <td>Female</td>\n",
              "      <td>39</td>\n",
              "      <td>1</td>\n",
              "      <td>0.00</td>\n",
              "      <td>2</td>\n",
              "      <td>0</td>\n",
              "      <td>0</td>\n",
              "      <td>93826.63</td>\n",
              "    </tr>\n",
              "    <tr>\n",
              "      <th>4</th>\n",
              "      <td>850</td>\n",
              "      <td>Spain</td>\n",
              "      <td>Female</td>\n",
              "      <td>43</td>\n",
              "      <td>2</td>\n",
              "      <td>125510.82</td>\n",
              "      <td>1</td>\n",
              "      <td>1</td>\n",
              "      <td>1</td>\n",
              "      <td>79084.10</td>\n",
              "    </tr>\n",
              "  </tbody>\n",
              "</table>\n",
              "</div>\n",
              "      <button class=\"colab-df-convert\" onclick=\"convertToInteractive('df-214efc40-83e7-4a85-b446-df222b626033')\"\n",
              "              title=\"Convert this dataframe to an interactive table.\"\n",
              "              style=\"display:none;\">\n",
              "        \n",
              "  <svg xmlns=\"http://www.w3.org/2000/svg\" height=\"24px\"viewBox=\"0 0 24 24\"\n",
              "       width=\"24px\">\n",
              "    <path d=\"M0 0h24v24H0V0z\" fill=\"none\"/>\n",
              "    <path d=\"M18.56 5.44l.94 2.06.94-2.06 2.06-.94-2.06-.94-.94-2.06-.94 2.06-2.06.94zm-11 1L8.5 8.5l.94-2.06 2.06-.94-2.06-.94L8.5 2.5l-.94 2.06-2.06.94zm10 10l.94 2.06.94-2.06 2.06-.94-2.06-.94-.94-2.06-.94 2.06-2.06.94z\"/><path d=\"M17.41 7.96l-1.37-1.37c-.4-.4-.92-.59-1.43-.59-.52 0-1.04.2-1.43.59L10.3 9.45l-7.72 7.72c-.78.78-.78 2.05 0 2.83L4 21.41c.39.39.9.59 1.41.59.51 0 1.02-.2 1.41-.59l7.78-7.78 2.81-2.81c.8-.78.8-2.07 0-2.86zM5.41 20L4 18.59l7.72-7.72 1.47 1.35L5.41 20z\"/>\n",
              "  </svg>\n",
              "      </button>\n",
              "      \n",
              "  <style>\n",
              "    .colab-df-container {\n",
              "      display:flex;\n",
              "      flex-wrap:wrap;\n",
              "      gap: 12px;\n",
              "    }\n",
              "\n",
              "    .colab-df-convert {\n",
              "      background-color: #E8F0FE;\n",
              "      border: none;\n",
              "      border-radius: 50%;\n",
              "      cursor: pointer;\n",
              "      display: none;\n",
              "      fill: #1967D2;\n",
              "      height: 32px;\n",
              "      padding: 0 0 0 0;\n",
              "      width: 32px;\n",
              "    }\n",
              "\n",
              "    .colab-df-convert:hover {\n",
              "      background-color: #E2EBFA;\n",
              "      box-shadow: 0px 1px 2px rgba(60, 64, 67, 0.3), 0px 1px 3px 1px rgba(60, 64, 67, 0.15);\n",
              "      fill: #174EA6;\n",
              "    }\n",
              "\n",
              "    [theme=dark] .colab-df-convert {\n",
              "      background-color: #3B4455;\n",
              "      fill: #D2E3FC;\n",
              "    }\n",
              "\n",
              "    [theme=dark] .colab-df-convert:hover {\n",
              "      background-color: #434B5C;\n",
              "      box-shadow: 0px 1px 3px 1px rgba(0, 0, 0, 0.15);\n",
              "      filter: drop-shadow(0px 1px 2px rgba(0, 0, 0, 0.3));\n",
              "      fill: #FFFFFF;\n",
              "    }\n",
              "  </style>\n",
              "\n",
              "      <script>\n",
              "        const buttonEl =\n",
              "          document.querySelector('#df-214efc40-83e7-4a85-b446-df222b626033 button.colab-df-convert');\n",
              "        buttonEl.style.display =\n",
              "          google.colab.kernel.accessAllowed ? 'block' : 'none';\n",
              "\n",
              "        async function convertToInteractive(key) {\n",
              "          const element = document.querySelector('#df-214efc40-83e7-4a85-b446-df222b626033');\n",
              "          const dataTable =\n",
              "            await google.colab.kernel.invokeFunction('convertToInteractive',\n",
              "                                                     [key], {});\n",
              "          if (!dataTable) return;\n",
              "\n",
              "          const docLinkHtml = 'Like what you see? Visit the ' +\n",
              "            '<a target=\"_blank\" href=https://colab.research.google.com/notebooks/data_table.ipynb>data table notebook</a>'\n",
              "            + ' to learn more about interactive tables.';\n",
              "          element.innerHTML = '';\n",
              "          dataTable['output_type'] = 'display_data';\n",
              "          await google.colab.output.renderOutput(dataTable, element);\n",
              "          const docLink = document.createElement('div');\n",
              "          docLink.innerHTML = docLinkHtml;\n",
              "          element.appendChild(docLink);\n",
              "        }\n",
              "      </script>\n",
              "    </div>\n",
              "  </div>\n",
              "  "
            ]
          },
          "metadata": {},
          "execution_count": 7
        }
      ],
      "source": [
        "x=dataset.iloc[:,3:13]\n",
        "y=dataset.iloc[:,13]\n",
        "x.head()"
      ]
    },
    {
      "cell_type": "code",
      "execution_count": 8,
      "metadata": {
        "colab": {
          "base_uri": "https://localhost:8080/"
        },
        "id": "d0sat1X1Ai1V",
        "outputId": "d1fdc8fc-f5f9-4189-e94a-6cb5c204260d"
      },
      "outputs": [
        {
          "output_type": "execute_result",
          "data": {
            "text/plain": [
              "0    1\n",
              "1    0\n",
              "2    1\n",
              "3    0\n",
              "4    0\n",
              "Name: Exited, dtype: int64"
            ]
          },
          "metadata": {},
          "execution_count": 8
        }
      ],
      "source": [
        "y.head()"
      ]
    },
    {
      "cell_type": "code",
      "execution_count": 9,
      "metadata": {
        "id": "wRrJWI9xAp-s"
      },
      "outputs": [],
      "source": [
        "#feature engineering"
      ]
    },
    {
      "cell_type": "code",
      "execution_count": 10,
      "metadata": {
        "id": "h0UqwaeXAudR"
      },
      "outputs": [],
      "source": [
        "geography=pd.get_dummies(x['Geography'],drop_first=True)"
      ]
    },
    {
      "cell_type": "code",
      "execution_count": 11,
      "metadata": {
        "id": "pFoS7QS_A_Z-"
      },
      "outputs": [],
      "source": [
        "gender=pd.get_dummies(x['Gender'],drop_first=True)"
      ]
    },
    {
      "cell_type": "code",
      "execution_count": 12,
      "metadata": {
        "id": "jFZArbKZBdIT"
      },
      "outputs": [],
      "source": [
        "#concatenate these variables into dataframe"
      ]
    },
    {
      "cell_type": "code",
      "execution_count": 13,
      "metadata": {
        "id": "9l6gt6gxBny4"
      },
      "outputs": [],
      "source": [
        "x=x.drop(['Geography','Gender'],axis=1)"
      ]
    },
    {
      "cell_type": "code",
      "execution_count": 14,
      "metadata": {
        "colab": {
          "base_uri": "https://localhost:8080/",
          "height": 487
        },
        "id": "UAjlNI7EB6aw",
        "outputId": "a39aff75-75f6-4df8-e3ec-fcad33396109"
      },
      "outputs": [
        {
          "output_type": "execute_result",
          "data": {
            "text/plain": [
              "      CreditScore  Age  Tenure    Balance  NumOfProducts  HasCrCard  \\\n",
              "0             619   42       2       0.00              1          1   \n",
              "1             608   41       1   83807.86              1          0   \n",
              "2             502   42       8  159660.80              3          1   \n",
              "3             699   39       1       0.00              2          0   \n",
              "4             850   43       2  125510.82              1          1   \n",
              "...           ...  ...     ...        ...            ...        ...   \n",
              "9995          771   39       5       0.00              2          1   \n",
              "9996          516   35      10   57369.61              1          1   \n",
              "9997          709   36       7       0.00              1          0   \n",
              "9998          772   42       3   75075.31              2          1   \n",
              "9999          792   28       4  130142.79              1          1   \n",
              "\n",
              "      IsActiveMember  EstimatedSalary  Germany  Spain  Male  \n",
              "0                  1        101348.88        0      0     0  \n",
              "1                  1        112542.58        0      1     0  \n",
              "2                  0        113931.57        0      0     0  \n",
              "3                  0         93826.63        0      0     0  \n",
              "4                  1         79084.10        0      1     0  \n",
              "...              ...              ...      ...    ...   ...  \n",
              "9995               0         96270.64        0      0     1  \n",
              "9996               1        101699.77        0      0     1  \n",
              "9997               1         42085.58        0      0     0  \n",
              "9998               0         92888.52        1      0     1  \n",
              "9999               0         38190.78        0      0     0  \n",
              "\n",
              "[10000 rows x 11 columns]"
            ],
            "text/html": [
              "\n",
              "  <div id=\"df-8a117529-8423-4b90-a93a-dddd8431a3f7\">\n",
              "    <div class=\"colab-df-container\">\n",
              "      <div>\n",
              "<style scoped>\n",
              "    .dataframe tbody tr th:only-of-type {\n",
              "        vertical-align: middle;\n",
              "    }\n",
              "\n",
              "    .dataframe tbody tr th {\n",
              "        vertical-align: top;\n",
              "    }\n",
              "\n",
              "    .dataframe thead th {\n",
              "        text-align: right;\n",
              "    }\n",
              "</style>\n",
              "<table border=\"1\" class=\"dataframe\">\n",
              "  <thead>\n",
              "    <tr style=\"text-align: right;\">\n",
              "      <th></th>\n",
              "      <th>CreditScore</th>\n",
              "      <th>Age</th>\n",
              "      <th>Tenure</th>\n",
              "      <th>Balance</th>\n",
              "      <th>NumOfProducts</th>\n",
              "      <th>HasCrCard</th>\n",
              "      <th>IsActiveMember</th>\n",
              "      <th>EstimatedSalary</th>\n",
              "      <th>Germany</th>\n",
              "      <th>Spain</th>\n",
              "      <th>Male</th>\n",
              "    </tr>\n",
              "  </thead>\n",
              "  <tbody>\n",
              "    <tr>\n",
              "      <th>0</th>\n",
              "      <td>619</td>\n",
              "      <td>42</td>\n",
              "      <td>2</td>\n",
              "      <td>0.00</td>\n",
              "      <td>1</td>\n",
              "      <td>1</td>\n",
              "      <td>1</td>\n",
              "      <td>101348.88</td>\n",
              "      <td>0</td>\n",
              "      <td>0</td>\n",
              "      <td>0</td>\n",
              "    </tr>\n",
              "    <tr>\n",
              "      <th>1</th>\n",
              "      <td>608</td>\n",
              "      <td>41</td>\n",
              "      <td>1</td>\n",
              "      <td>83807.86</td>\n",
              "      <td>1</td>\n",
              "      <td>0</td>\n",
              "      <td>1</td>\n",
              "      <td>112542.58</td>\n",
              "      <td>0</td>\n",
              "      <td>1</td>\n",
              "      <td>0</td>\n",
              "    </tr>\n",
              "    <tr>\n",
              "      <th>2</th>\n",
              "      <td>502</td>\n",
              "      <td>42</td>\n",
              "      <td>8</td>\n",
              "      <td>159660.80</td>\n",
              "      <td>3</td>\n",
              "      <td>1</td>\n",
              "      <td>0</td>\n",
              "      <td>113931.57</td>\n",
              "      <td>0</td>\n",
              "      <td>0</td>\n",
              "      <td>0</td>\n",
              "    </tr>\n",
              "    <tr>\n",
              "      <th>3</th>\n",
              "      <td>699</td>\n",
              "      <td>39</td>\n",
              "      <td>1</td>\n",
              "      <td>0.00</td>\n",
              "      <td>2</td>\n",
              "      <td>0</td>\n",
              "      <td>0</td>\n",
              "      <td>93826.63</td>\n",
              "      <td>0</td>\n",
              "      <td>0</td>\n",
              "      <td>0</td>\n",
              "    </tr>\n",
              "    <tr>\n",
              "      <th>4</th>\n",
              "      <td>850</td>\n",
              "      <td>43</td>\n",
              "      <td>2</td>\n",
              "      <td>125510.82</td>\n",
              "      <td>1</td>\n",
              "      <td>1</td>\n",
              "      <td>1</td>\n",
              "      <td>79084.10</td>\n",
              "      <td>0</td>\n",
              "      <td>1</td>\n",
              "      <td>0</td>\n",
              "    </tr>\n",
              "    <tr>\n",
              "      <th>...</th>\n",
              "      <td>...</td>\n",
              "      <td>...</td>\n",
              "      <td>...</td>\n",
              "      <td>...</td>\n",
              "      <td>...</td>\n",
              "      <td>...</td>\n",
              "      <td>...</td>\n",
              "      <td>...</td>\n",
              "      <td>...</td>\n",
              "      <td>...</td>\n",
              "      <td>...</td>\n",
              "    </tr>\n",
              "    <tr>\n",
              "      <th>9995</th>\n",
              "      <td>771</td>\n",
              "      <td>39</td>\n",
              "      <td>5</td>\n",
              "      <td>0.00</td>\n",
              "      <td>2</td>\n",
              "      <td>1</td>\n",
              "      <td>0</td>\n",
              "      <td>96270.64</td>\n",
              "      <td>0</td>\n",
              "      <td>0</td>\n",
              "      <td>1</td>\n",
              "    </tr>\n",
              "    <tr>\n",
              "      <th>9996</th>\n",
              "      <td>516</td>\n",
              "      <td>35</td>\n",
              "      <td>10</td>\n",
              "      <td>57369.61</td>\n",
              "      <td>1</td>\n",
              "      <td>1</td>\n",
              "      <td>1</td>\n",
              "      <td>101699.77</td>\n",
              "      <td>0</td>\n",
              "      <td>0</td>\n",
              "      <td>1</td>\n",
              "    </tr>\n",
              "    <tr>\n",
              "      <th>9997</th>\n",
              "      <td>709</td>\n",
              "      <td>36</td>\n",
              "      <td>7</td>\n",
              "      <td>0.00</td>\n",
              "      <td>1</td>\n",
              "      <td>0</td>\n",
              "      <td>1</td>\n",
              "      <td>42085.58</td>\n",
              "      <td>0</td>\n",
              "      <td>0</td>\n",
              "      <td>0</td>\n",
              "    </tr>\n",
              "    <tr>\n",
              "      <th>9998</th>\n",
              "      <td>772</td>\n",
              "      <td>42</td>\n",
              "      <td>3</td>\n",
              "      <td>75075.31</td>\n",
              "      <td>2</td>\n",
              "      <td>1</td>\n",
              "      <td>0</td>\n",
              "      <td>92888.52</td>\n",
              "      <td>1</td>\n",
              "      <td>0</td>\n",
              "      <td>1</td>\n",
              "    </tr>\n",
              "    <tr>\n",
              "      <th>9999</th>\n",
              "      <td>792</td>\n",
              "      <td>28</td>\n",
              "      <td>4</td>\n",
              "      <td>130142.79</td>\n",
              "      <td>1</td>\n",
              "      <td>1</td>\n",
              "      <td>0</td>\n",
              "      <td>38190.78</td>\n",
              "      <td>0</td>\n",
              "      <td>0</td>\n",
              "      <td>0</td>\n",
              "    </tr>\n",
              "  </tbody>\n",
              "</table>\n",
              "<p>10000 rows × 11 columns</p>\n",
              "</div>\n",
              "      <button class=\"colab-df-convert\" onclick=\"convertToInteractive('df-8a117529-8423-4b90-a93a-dddd8431a3f7')\"\n",
              "              title=\"Convert this dataframe to an interactive table.\"\n",
              "              style=\"display:none;\">\n",
              "        \n",
              "  <svg xmlns=\"http://www.w3.org/2000/svg\" height=\"24px\"viewBox=\"0 0 24 24\"\n",
              "       width=\"24px\">\n",
              "    <path d=\"M0 0h24v24H0V0z\" fill=\"none\"/>\n",
              "    <path d=\"M18.56 5.44l.94 2.06.94-2.06 2.06-.94-2.06-.94-.94-2.06-.94 2.06-2.06.94zm-11 1L8.5 8.5l.94-2.06 2.06-.94-2.06-.94L8.5 2.5l-.94 2.06-2.06.94zm10 10l.94 2.06.94-2.06 2.06-.94-2.06-.94-.94-2.06-.94 2.06-2.06.94z\"/><path d=\"M17.41 7.96l-1.37-1.37c-.4-.4-.92-.59-1.43-.59-.52 0-1.04.2-1.43.59L10.3 9.45l-7.72 7.72c-.78.78-.78 2.05 0 2.83L4 21.41c.39.39.9.59 1.41.59.51 0 1.02-.2 1.41-.59l7.78-7.78 2.81-2.81c.8-.78.8-2.07 0-2.86zM5.41 20L4 18.59l7.72-7.72 1.47 1.35L5.41 20z\"/>\n",
              "  </svg>\n",
              "      </button>\n",
              "      \n",
              "  <style>\n",
              "    .colab-df-container {\n",
              "      display:flex;\n",
              "      flex-wrap:wrap;\n",
              "      gap: 12px;\n",
              "    }\n",
              "\n",
              "    .colab-df-convert {\n",
              "      background-color: #E8F0FE;\n",
              "      border: none;\n",
              "      border-radius: 50%;\n",
              "      cursor: pointer;\n",
              "      display: none;\n",
              "      fill: #1967D2;\n",
              "      height: 32px;\n",
              "      padding: 0 0 0 0;\n",
              "      width: 32px;\n",
              "    }\n",
              "\n",
              "    .colab-df-convert:hover {\n",
              "      background-color: #E2EBFA;\n",
              "      box-shadow: 0px 1px 2px rgba(60, 64, 67, 0.3), 0px 1px 3px 1px rgba(60, 64, 67, 0.15);\n",
              "      fill: #174EA6;\n",
              "    }\n",
              "\n",
              "    [theme=dark] .colab-df-convert {\n",
              "      background-color: #3B4455;\n",
              "      fill: #D2E3FC;\n",
              "    }\n",
              "\n",
              "    [theme=dark] .colab-df-convert:hover {\n",
              "      background-color: #434B5C;\n",
              "      box-shadow: 0px 1px 3px 1px rgba(0, 0, 0, 0.15);\n",
              "      filter: drop-shadow(0px 1px 2px rgba(0, 0, 0, 0.3));\n",
              "      fill: #FFFFFF;\n",
              "    }\n",
              "  </style>\n",
              "\n",
              "      <script>\n",
              "        const buttonEl =\n",
              "          document.querySelector('#df-8a117529-8423-4b90-a93a-dddd8431a3f7 button.colab-df-convert');\n",
              "        buttonEl.style.display =\n",
              "          google.colab.kernel.accessAllowed ? 'block' : 'none';\n",
              "\n",
              "        async function convertToInteractive(key) {\n",
              "          const element = document.querySelector('#df-8a117529-8423-4b90-a93a-dddd8431a3f7');\n",
              "          const dataTable =\n",
              "            await google.colab.kernel.invokeFunction('convertToInteractive',\n",
              "                                                     [key], {});\n",
              "          if (!dataTable) return;\n",
              "\n",
              "          const docLinkHtml = 'Like what you see? Visit the ' +\n",
              "            '<a target=\"_blank\" href=https://colab.research.google.com/notebooks/data_table.ipynb>data table notebook</a>'\n",
              "            + ' to learn more about interactive tables.';\n",
              "          element.innerHTML = '';\n",
              "          dataTable['output_type'] = 'display_data';\n",
              "          await google.colab.output.renderOutput(dataTable, element);\n",
              "          const docLink = document.createElement('div');\n",
              "          docLink.innerHTML = docLinkHtml;\n",
              "          element.appendChild(docLink);\n",
              "        }\n",
              "      </script>\n",
              "    </div>\n",
              "  </div>\n",
              "  "
            ]
          },
          "metadata": {},
          "execution_count": 14
        }
      ],
      "source": [
        "pd.concat([x,geography,gender],axis=1)"
      ]
    },
    {
      "cell_type": "code",
      "execution_count": 15,
      "metadata": {
        "id": "TYPq7FJVCM3n"
      },
      "outputs": [],
      "source": [
        "#splitting the dataset into training set and test set"
      ]
    },
    {
      "cell_type": "code",
      "execution_count": 16,
      "metadata": {
        "id": "sa8myIR-CsBa"
      },
      "outputs": [],
      "source": [
        "from sklearn.model_selection import train_test_split\n",
        "x_train,x_test,y_train,y_test=train_test_split(x,y,test_size=0.2,random_state=0)"
      ]
    },
    {
      "cell_type": "code",
      "execution_count": 17,
      "metadata": {
        "id": "XANZvOi1DFoE"
      },
      "outputs": [],
      "source": [
        "#feature scaling"
      ]
    },
    {
      "cell_type": "code",
      "execution_count": 18,
      "metadata": {
        "id": "siE1NCv5DUAJ"
      },
      "outputs": [],
      "source": [
        "from sklearn.preprocessing import StandardScaler\n",
        "sc=StandardScaler()"
      ]
    },
    {
      "cell_type": "code",
      "execution_count": 19,
      "metadata": {
        "id": "RXP0SsoxESUb"
      },
      "outputs": [],
      "source": [
        "x_train=sc.fit_transform(x_train)"
      ]
    },
    {
      "cell_type": "code",
      "execution_count": 20,
      "metadata": {
        "id": "Hl-tzL3pElRF"
      },
      "outputs": [],
      "source": [
        "x_test=sc.fit_transform(x_test)"
      ]
    },
    {
      "cell_type": "code",
      "execution_count": 21,
      "metadata": {
        "colab": {
          "base_uri": "https://localhost:8080/"
        },
        "id": "Xu5FsgPUEqli",
        "outputId": "1f3274ee-a9fb-44a2-b9d2-e745f95e848e"
      },
      "outputs": [
        {
          "output_type": "execute_result",
          "data": {
            "text/plain": [
              "array([[ 0.16958176, -0.46460796,  0.00666099, ...,  0.64259497,\n",
              "        -1.03227043,  1.10643166],\n",
              "       [-2.30455945,  0.30102557, -1.37744033, ...,  0.64259497,\n",
              "         0.9687384 , -0.74866447],\n",
              "       [-1.19119591, -0.94312892, -1.031415  , ...,  0.64259497,\n",
              "        -1.03227043,  1.48533467],\n",
              "       ...,\n",
              "       [ 0.9015152 , -0.36890377,  0.00666099, ...,  0.64259497,\n",
              "        -1.03227043,  1.41231994],\n",
              "       [-0.62420521, -0.08179119,  1.39076231, ...,  0.64259497,\n",
              "         0.9687384 ,  0.84432121],\n",
              "       [-0.28401079,  0.87525072, -1.37744033, ...,  0.64259497,\n",
              "        -1.03227043,  0.32472465]])"
            ]
          },
          "metadata": {},
          "execution_count": 21
        }
      ],
      "source": [
        "x_train"
      ]
    },
    {
      "cell_type": "code",
      "execution_count": 22,
      "metadata": {
        "colab": {
          "base_uri": "https://localhost:8080/"
        },
        "id": "YW2bikHLEsnh",
        "outputId": "5a46f587-16a0-4e67-9f32-ff66a52f7297"
      },
      "outputs": [
        {
          "output_type": "execute_result",
          "data": {
            "text/plain": [
              "array([[-0.56129438, -0.39401698,  0.9869706 , ...,  0.66011376,\n",
              "         0.97628121,  1.62185911],\n",
              "       [-1.33847768,  0.07611425, -1.08432132, ...,  0.66011376,\n",
              "        -1.02429504,  0.504204  ],\n",
              "       [ 0.58347561,  0.26416674,  0.9869706 , ...,  0.66011376,\n",
              "         0.97628121, -0.41865644],\n",
              "       ...,\n",
              "       [-0.76084144, -0.29999074, -1.42953664, ...,  0.66011376,\n",
              "        -1.02429504,  0.72775202],\n",
              "       [-0.0046631 , -0.48804323, -0.39389068, ...,  0.66011376,\n",
              "         0.97628121, -1.54162886],\n",
              "       [-0.81335383, -0.86414821,  0.9869706 , ...,  0.66011376,\n",
              "        -1.02429504,  1.62356528]])"
            ]
          },
          "metadata": {},
          "execution_count": 22
        }
      ],
      "source": [
        "x_test"
      ]
    },
    {
      "cell_type": "code",
      "execution_count": 23,
      "metadata": {
        "colab": {
          "base_uri": "https://localhost:8080/"
        },
        "id": "MpTZieiUEvRQ",
        "outputId": "ec2c71d0-64f9-4671-a50f-6bc29e4b0ebe"
      },
      "outputs": [
        {
          "output_type": "execute_result",
          "data": {
            "text/plain": [
              "(8000, 8)"
            ]
          },
          "metadata": {},
          "execution_count": 23
        }
      ],
      "source": [
        "x_train.shape"
      ]
    },
    {
      "cell_type": "code",
      "execution_count": 24,
      "metadata": {
        "id": "smPS07ubE3vW"
      },
      "outputs": [],
      "source": [
        "#lets create ANN"
      ]
    },
    {
      "cell_type": "code",
      "execution_count": 25,
      "metadata": {
        "id": "zuKJSaqTEyLh"
      },
      "outputs": [],
      "source": [
        "from tensorflow.keras.models import Sequential\n",
        "from tensorflow.keras.layers import Dense\n",
        "from tensorflow.keras.layers import LeakyReLU,PReLU,ELU,ReLU \n",
        "from tensorflow.keras.layers import Dropout\n",
        "\n",
        "\n"
      ]
    },
    {
      "cell_type": "code",
      "execution_count": 26,
      "metadata": {
        "id": "XIzfuwKKFcSm"
      },
      "outputs": [],
      "source": [
        "#lets initialize ANN\n"
      ]
    },
    {
      "cell_type": "code",
      "execution_count": 27,
      "metadata": {
        "id": "TaJ4cCBJGYjS"
      },
      "outputs": [],
      "source": [
        "Classifier=Sequential()"
      ]
    },
    {
      "cell_type": "code",
      "execution_count": 28,
      "metadata": {
        "id": "kyIxGilHGeHo"
      },
      "outputs": [],
      "source": [
        "#Adding the input layer"
      ]
    },
    {
      "cell_type": "code",
      "execution_count": 29,
      "metadata": {
        "id": "2QVsThGIGlNR"
      },
      "outputs": [],
      "source": [
        "Classifier.add(Dense(units=11,activation='relu'))"
      ]
    },
    {
      "cell_type": "code",
      "execution_count": 30,
      "metadata": {
        "id": "aUiI-zJIGvX8"
      },
      "outputs": [],
      "source": [
        "#adding the first hidden layer\n",
        "Classifier.add(Dense(units=7,activation='relu'))\n",
        "Classifier.add(Dropout(0.2))"
      ]
    },
    {
      "cell_type": "code",
      "execution_count": 31,
      "metadata": {
        "id": "e40RUULlG_AP"
      },
      "outputs": [],
      "source": [
        "#adding second hidden layer\n",
        "Classifier.add(Dense(units=6,activation='relu'))\n",
        "Classifier.add(Dropout(0.3))"
      ]
    },
    {
      "cell_type": "code",
      "execution_count": 32,
      "metadata": {
        "id": "e8ymAAujHbyx"
      },
      "outputs": [],
      "source": [
        "#adding output layer\n",
        "Classifier.add(Dense(1,activation='sigmoid'))"
      ]
    },
    {
      "cell_type": "code",
      "execution_count": 33,
      "metadata": {
        "id": "h_75RhR-HoFN"
      },
      "outputs": [],
      "source": [
        "Classifier.compile(optimizer='adam',loss='binary_crossentropy',metrics=['accuracy'])"
      ]
    },
    {
      "cell_type": "code",
      "execution_count": 34,
      "metadata": {
        "id": "KagVSQHXIO02"
      },
      "outputs": [],
      "source": [
        "import tensorflow\n",
        "opt=tensorflow.keras.optimizers.Adam(learning_rate=0.01)"
      ]
    },
    {
      "cell_type": "code",
      "execution_count": 35,
      "metadata": {
        "id": "HMm2wDgIIjFW"
      },
      "outputs": [],
      "source": [
        "#early stopping"
      ]
    },
    {
      "cell_type": "code",
      "execution_count": 36,
      "metadata": {
        "id": "D3FsfufbIutg"
      },
      "outputs": [],
      "source": [
        "import tensorflow as tf\n",
        "early_stopping=tf.keras.callbacks.EarlyStopping(\n",
        "    monitor=\"val_loss\",\n",
        "    min_delta=0.0001,\n",
        "    patience=20,\n",
        "    verbose=1,\n",
        "    mode=\"auto\",\n",
        "    baseline=None,\n",
        "    restore_best_weights=False,\n",
        ") \n",
        "\n"
      ]
    },
    {
      "cell_type": "code",
      "execution_count": 37,
      "metadata": {
        "colab": {
          "base_uri": "https://localhost:8080/"
        },
        "id": "vnO4FBTzJYBF",
        "outputId": "8578b2f6-8f51-4c98-82b6-c761163578b0"
      },
      "outputs": [
        {
          "output_type": "stream",
          "name": "stdout",
          "text": [
            "Epoch 1/1000\n",
            "536/536 [==============================] - 10s 8ms/step - loss: 0.5518 - accuracy: 0.7735 - val_loss: 0.4750 - val_accuracy: 0.7967\n",
            "Epoch 2/1000\n",
            "536/536 [==============================] - 4s 7ms/step - loss: 0.4873 - accuracy: 0.8024 - val_loss: 0.4517 - val_accuracy: 0.8027\n",
            "Epoch 3/1000\n",
            "536/536 [==============================] - 5s 9ms/step - loss: 0.4652 - accuracy: 0.8054 - val_loss: 0.4365 - val_accuracy: 0.8076\n",
            "Epoch 4/1000\n",
            "536/536 [==============================] - 5s 9ms/step - loss: 0.4468 - accuracy: 0.8119 - val_loss: 0.4232 - val_accuracy: 0.8092\n",
            "Epoch 5/1000\n",
            "536/536 [==============================] - 4s 7ms/step - loss: 0.4338 - accuracy: 0.8220 - val_loss: 0.4104 - val_accuracy: 0.8160\n",
            "Epoch 6/1000\n",
            "536/536 [==============================] - 2s 4ms/step - loss: 0.4274 - accuracy: 0.8298 - val_loss: 0.4037 - val_accuracy: 0.8289\n",
            "Epoch 7/1000\n",
            "536/536 [==============================] - 3s 5ms/step - loss: 0.4175 - accuracy: 0.8322 - val_loss: 0.3961 - val_accuracy: 0.8376\n",
            "Epoch 8/1000\n",
            "536/536 [==============================] - 2s 4ms/step - loss: 0.4129 - accuracy: 0.8378 - val_loss: 0.3929 - val_accuracy: 0.8444\n",
            "Epoch 9/1000\n",
            "536/536 [==============================] - 2s 4ms/step - loss: 0.4029 - accuracy: 0.8434 - val_loss: 0.3867 - val_accuracy: 0.8463\n",
            "Epoch 10/1000\n",
            "536/536 [==============================] - 2s 4ms/step - loss: 0.4026 - accuracy: 0.8395 - val_loss: 0.3854 - val_accuracy: 0.8478\n",
            "Epoch 11/1000\n",
            "536/536 [==============================] - 2s 4ms/step - loss: 0.4015 - accuracy: 0.8367 - val_loss: 0.3822 - val_accuracy: 0.8459\n",
            "Epoch 12/1000\n",
            "536/536 [==============================] - 3s 6ms/step - loss: 0.3961 - accuracy: 0.8431 - val_loss: 0.3833 - val_accuracy: 0.8463\n",
            "Epoch 13/1000\n",
            "536/536 [==============================] - 2s 5ms/step - loss: 0.3968 - accuracy: 0.8403 - val_loss: 0.3813 - val_accuracy: 0.8448\n",
            "Epoch 14/1000\n",
            "536/536 [==============================] - 2s 4ms/step - loss: 0.3939 - accuracy: 0.8388 - val_loss: 0.3833 - val_accuracy: 0.8451\n",
            "Epoch 15/1000\n",
            "536/536 [==============================] - 2s 4ms/step - loss: 0.3951 - accuracy: 0.8416 - val_loss: 0.3841 - val_accuracy: 0.8410\n",
            "Epoch 16/1000\n",
            "536/536 [==============================] - 2s 4ms/step - loss: 0.3943 - accuracy: 0.8414 - val_loss: 0.3809 - val_accuracy: 0.8455\n",
            "Epoch 17/1000\n",
            "536/536 [==============================] - 3s 5ms/step - loss: 0.3862 - accuracy: 0.8474 - val_loss: 0.3810 - val_accuracy: 0.8448\n",
            "Epoch 18/1000\n",
            "536/536 [==============================] - 2s 4ms/step - loss: 0.3933 - accuracy: 0.8403 - val_loss: 0.3801 - val_accuracy: 0.8474\n",
            "Epoch 19/1000\n",
            "536/536 [==============================] - 2s 4ms/step - loss: 0.3898 - accuracy: 0.8412 - val_loss: 0.3795 - val_accuracy: 0.8448\n",
            "Epoch 20/1000\n",
            "536/536 [==============================] - 2s 4ms/step - loss: 0.3857 - accuracy: 0.8457 - val_loss: 0.3818 - val_accuracy: 0.8436\n",
            "Epoch 21/1000\n",
            "536/536 [==============================] - 2s 4ms/step - loss: 0.3833 - accuracy: 0.8444 - val_loss: 0.3781 - val_accuracy: 0.8485\n",
            "Epoch 22/1000\n",
            "536/536 [==============================] - 3s 5ms/step - loss: 0.3804 - accuracy: 0.8485 - val_loss: 0.3794 - val_accuracy: 0.8459\n",
            "Epoch 23/1000\n",
            "536/536 [==============================] - 2s 4ms/step - loss: 0.3852 - accuracy: 0.8438 - val_loss: 0.3776 - val_accuracy: 0.8459\n",
            "Epoch 24/1000\n",
            "536/536 [==============================] - 2s 4ms/step - loss: 0.3830 - accuracy: 0.8442 - val_loss: 0.3782 - val_accuracy: 0.8444\n",
            "Epoch 25/1000\n",
            "536/536 [==============================] - 2s 4ms/step - loss: 0.3833 - accuracy: 0.8449 - val_loss: 0.3786 - val_accuracy: 0.8463\n",
            "Epoch 26/1000\n",
            "536/536 [==============================] - 2s 4ms/step - loss: 0.3825 - accuracy: 0.8444 - val_loss: 0.3769 - val_accuracy: 0.8466\n",
            "Epoch 27/1000\n",
            "536/536 [==============================] - 3s 6ms/step - loss: 0.3802 - accuracy: 0.8442 - val_loss: 0.3769 - val_accuracy: 0.8459\n",
            "Epoch 28/1000\n",
            "536/536 [==============================] - 3s 5ms/step - loss: 0.3838 - accuracy: 0.8474 - val_loss: 0.3791 - val_accuracy: 0.8417\n",
            "Epoch 29/1000\n",
            "536/536 [==============================] - 2s 4ms/step - loss: 0.3796 - accuracy: 0.8474 - val_loss: 0.3771 - val_accuracy: 0.8463\n",
            "Epoch 30/1000\n",
            "536/536 [==============================] - 2s 4ms/step - loss: 0.3816 - accuracy: 0.8461 - val_loss: 0.3749 - val_accuracy: 0.8474\n",
            "Epoch 31/1000\n",
            "536/536 [==============================] - 2s 4ms/step - loss: 0.3838 - accuracy: 0.8433 - val_loss: 0.3749 - val_accuracy: 0.8466\n",
            "Epoch 32/1000\n",
            "536/536 [==============================] - 3s 5ms/step - loss: 0.3816 - accuracy: 0.8418 - val_loss: 0.3752 - val_accuracy: 0.8466\n",
            "Epoch 33/1000\n",
            "536/536 [==============================] - 2s 5ms/step - loss: 0.3794 - accuracy: 0.8479 - val_loss: 0.3752 - val_accuracy: 0.8466\n",
            "Epoch 34/1000\n",
            "536/536 [==============================] - 2s 4ms/step - loss: 0.3784 - accuracy: 0.8472 - val_loss: 0.3743 - val_accuracy: 0.8470\n",
            "Epoch 35/1000\n",
            "536/536 [==============================] - 2s 4ms/step - loss: 0.3705 - accuracy: 0.8528 - val_loss: 0.3739 - val_accuracy: 0.8478\n",
            "Epoch 36/1000\n",
            "536/536 [==============================] - 4s 7ms/step - loss: 0.3788 - accuracy: 0.8485 - val_loss: 0.3752 - val_accuracy: 0.8466\n",
            "Epoch 37/1000\n",
            "536/536 [==============================] - 3s 5ms/step - loss: 0.3745 - accuracy: 0.8462 - val_loss: 0.3738 - val_accuracy: 0.8497\n",
            "Epoch 38/1000\n",
            "536/536 [==============================] - 2s 4ms/step - loss: 0.3775 - accuracy: 0.8466 - val_loss: 0.3734 - val_accuracy: 0.8493\n",
            "Epoch 39/1000\n",
            "536/536 [==============================] - 2s 4ms/step - loss: 0.3763 - accuracy: 0.8462 - val_loss: 0.3735 - val_accuracy: 0.8485\n",
            "Epoch 40/1000\n",
            "536/536 [==============================] - 2s 4ms/step - loss: 0.3724 - accuracy: 0.8483 - val_loss: 0.3726 - val_accuracy: 0.8463\n",
            "Epoch 41/1000\n",
            "536/536 [==============================] - 2s 5ms/step - loss: 0.3756 - accuracy: 0.8500 - val_loss: 0.3726 - val_accuracy: 0.8482\n",
            "Epoch 42/1000\n",
            "536/536 [==============================] - 3s 5ms/step - loss: 0.3703 - accuracy: 0.8464 - val_loss: 0.3714 - val_accuracy: 0.8497\n",
            "Epoch 43/1000\n",
            "536/536 [==============================] - 2s 4ms/step - loss: 0.3752 - accuracy: 0.8498 - val_loss: 0.3714 - val_accuracy: 0.8489\n",
            "Epoch 44/1000\n",
            "536/536 [==============================] - 2s 4ms/step - loss: 0.3778 - accuracy: 0.8449 - val_loss: 0.3720 - val_accuracy: 0.8463\n",
            "Epoch 45/1000\n",
            "536/536 [==============================] - 2s 4ms/step - loss: 0.3771 - accuracy: 0.8457 - val_loss: 0.3712 - val_accuracy: 0.8485\n",
            "Epoch 46/1000\n",
            "536/536 [==============================] - 2s 5ms/step - loss: 0.3750 - accuracy: 0.8500 - val_loss: 0.3717 - val_accuracy: 0.8478\n",
            "Epoch 47/1000\n",
            "536/536 [==============================] - 3s 5ms/step - loss: 0.3695 - accuracy: 0.8479 - val_loss: 0.3726 - val_accuracy: 0.8482\n",
            "Epoch 48/1000\n",
            "536/536 [==============================] - 2s 4ms/step - loss: 0.3721 - accuracy: 0.8500 - val_loss: 0.3733 - val_accuracy: 0.8463\n",
            "Epoch 49/1000\n",
            "536/536 [==============================] - 2s 4ms/step - loss: 0.3695 - accuracy: 0.8511 - val_loss: 0.3739 - val_accuracy: 0.8470\n",
            "Epoch 50/1000\n",
            "536/536 [==============================] - 2s 4ms/step - loss: 0.3759 - accuracy: 0.8462 - val_loss: 0.3736 - val_accuracy: 0.8482\n",
            "Epoch 51/1000\n",
            "536/536 [==============================] - 5s 9ms/step - loss: 0.3685 - accuracy: 0.8487 - val_loss: 0.3725 - val_accuracy: 0.8474\n",
            "Epoch 52/1000\n",
            "536/536 [==============================] - 4s 7ms/step - loss: 0.3737 - accuracy: 0.8494 - val_loss: 0.3739 - val_accuracy: 0.8470\n",
            "Epoch 53/1000\n",
            "536/536 [==============================] - 4s 7ms/step - loss: 0.3666 - accuracy: 0.8526 - val_loss: 0.3731 - val_accuracy: 0.8448\n",
            "Epoch 54/1000\n",
            "536/536 [==============================] - 3s 6ms/step - loss: 0.3706 - accuracy: 0.8503 - val_loss: 0.3764 - val_accuracy: 0.8478\n",
            "Epoch 55/1000\n",
            "536/536 [==============================] - 2s 5ms/step - loss: 0.3689 - accuracy: 0.8507 - val_loss: 0.3721 - val_accuracy: 0.8482\n",
            "Epoch 56/1000\n",
            "536/536 [==============================] - 2s 5ms/step - loss: 0.3712 - accuracy: 0.8490 - val_loss: 0.3737 - val_accuracy: 0.8474\n",
            "Epoch 57/1000\n",
            "536/536 [==============================] - 2s 4ms/step - loss: 0.3683 - accuracy: 0.8496 - val_loss: 0.3733 - val_accuracy: 0.8455\n",
            "Epoch 58/1000\n",
            "536/536 [==============================] - 3s 6ms/step - loss: 0.3714 - accuracy: 0.8447 - val_loss: 0.3767 - val_accuracy: 0.8466\n",
            "Epoch 59/1000\n",
            "536/536 [==============================] - 3s 5ms/step - loss: 0.3711 - accuracy: 0.8487 - val_loss: 0.3747 - val_accuracy: 0.8466\n",
            "Epoch 60/1000\n",
            "536/536 [==============================] - 2s 4ms/step - loss: 0.3697 - accuracy: 0.8451 - val_loss: 0.3746 - val_accuracy: 0.8485\n",
            "Epoch 61/1000\n",
            "536/536 [==============================] - 2s 4ms/step - loss: 0.3743 - accuracy: 0.8451 - val_loss: 0.3721 - val_accuracy: 0.8463\n",
            "Epoch 62/1000\n",
            "536/536 [==============================] - 2s 4ms/step - loss: 0.3700 - accuracy: 0.8470 - val_loss: 0.3725 - val_accuracy: 0.8440\n",
            "Epoch 63/1000\n",
            "536/536 [==============================] - 2s 4ms/step - loss: 0.3682 - accuracy: 0.8487 - val_loss: 0.3710 - val_accuracy: 0.8440\n",
            "Epoch 64/1000\n",
            "536/536 [==============================] - 3s 5ms/step - loss: 0.3675 - accuracy: 0.8485 - val_loss: 0.3711 - val_accuracy: 0.8478\n",
            "Epoch 65/1000\n",
            "536/536 [==============================] - 2s 5ms/step - loss: 0.3700 - accuracy: 0.8513 - val_loss: 0.3716 - val_accuracy: 0.8466\n",
            "Epoch 66/1000\n",
            "536/536 [==============================] - 2s 5ms/step - loss: 0.3664 - accuracy: 0.8511 - val_loss: 0.3725 - val_accuracy: 0.8463\n",
            "Epoch 67/1000\n",
            "536/536 [==============================] - 2s 5ms/step - loss: 0.3625 - accuracy: 0.8513 - val_loss: 0.3742 - val_accuracy: 0.8463\n",
            "Epoch 68/1000\n",
            "536/536 [==============================] - 4s 7ms/step - loss: 0.3642 - accuracy: 0.8483 - val_loss: 0.3738 - val_accuracy: 0.8482\n",
            "Epoch 69/1000\n",
            "536/536 [==============================] - 2s 5ms/step - loss: 0.3681 - accuracy: 0.8494 - val_loss: 0.3737 - val_accuracy: 0.8474\n",
            "Epoch 70/1000\n",
            "536/536 [==============================] - 3s 5ms/step - loss: 0.3642 - accuracy: 0.8533 - val_loss: 0.3708 - val_accuracy: 0.8470\n",
            "Epoch 71/1000\n",
            "536/536 [==============================] - 2s 4ms/step - loss: 0.3710 - accuracy: 0.8464 - val_loss: 0.3711 - val_accuracy: 0.8474\n",
            "Epoch 72/1000\n",
            "536/536 [==============================] - 2s 4ms/step - loss: 0.3655 - accuracy: 0.8520 - val_loss: 0.3727 - val_accuracy: 0.8470\n",
            "Epoch 73/1000\n",
            "536/536 [==============================] - 3s 5ms/step - loss: 0.3688 - accuracy: 0.8489 - val_loss: 0.3726 - val_accuracy: 0.8466\n",
            "Epoch 74/1000\n",
            "536/536 [==============================] - 2s 4ms/step - loss: 0.3649 - accuracy: 0.8479 - val_loss: 0.3732 - val_accuracy: 0.8489\n",
            "Epoch 75/1000\n",
            "536/536 [==============================] - 2s 4ms/step - loss: 0.3656 - accuracy: 0.8489 - val_loss: 0.3712 - val_accuracy: 0.8470\n",
            "Epoch 76/1000\n",
            "536/536 [==============================] - 2s 4ms/step - loss: 0.3641 - accuracy: 0.8507 - val_loss: 0.3722 - val_accuracy: 0.8466\n",
            "Epoch 77/1000\n",
            "536/536 [==============================] - 2s 5ms/step - loss: 0.3661 - accuracy: 0.8509 - val_loss: 0.3723 - val_accuracy: 0.8504\n",
            "Epoch 78/1000\n",
            "536/536 [==============================] - 3s 5ms/step - loss: 0.3665 - accuracy: 0.8515 - val_loss: 0.3728 - val_accuracy: 0.8485\n",
            "Epoch 79/1000\n",
            "536/536 [==============================] - 2s 4ms/step - loss: 0.3671 - accuracy: 0.8498 - val_loss: 0.3719 - val_accuracy: 0.8478\n",
            "Epoch 80/1000\n",
            "536/536 [==============================] - 2s 5ms/step - loss: 0.3681 - accuracy: 0.8459 - val_loss: 0.3733 - val_accuracy: 0.8466\n",
            "Epoch 81/1000\n",
            "536/536 [==============================] - 2s 4ms/step - loss: 0.3632 - accuracy: 0.8503 - val_loss: 0.3740 - val_accuracy: 0.8485\n",
            "Epoch 82/1000\n",
            "536/536 [==============================] - 2s 4ms/step - loss: 0.3621 - accuracy: 0.8489 - val_loss: 0.3727 - val_accuracy: 0.8470\n",
            "Epoch 83/1000\n",
            "536/536 [==============================] - 3s 6ms/step - loss: 0.3636 - accuracy: 0.8475 - val_loss: 0.3730 - val_accuracy: 0.8459\n",
            "Epoch 84/1000\n",
            "536/536 [==============================] - 2s 4ms/step - loss: 0.3661 - accuracy: 0.8474 - val_loss: 0.3736 - val_accuracy: 0.8459\n",
            "Epoch 85/1000\n",
            "536/536 [==============================] - 2s 5ms/step - loss: 0.3648 - accuracy: 0.8485 - val_loss: 0.3730 - val_accuracy: 0.8459\n",
            "Epoch 86/1000\n",
            "536/536 [==============================] - 2s 4ms/step - loss: 0.3643 - accuracy: 0.8474 - val_loss: 0.3739 - val_accuracy: 0.8448\n",
            "Epoch 87/1000\n",
            "536/536 [==============================] - 2s 4ms/step - loss: 0.3654 - accuracy: 0.8472 - val_loss: 0.3733 - val_accuracy: 0.8466\n",
            "Epoch 88/1000\n",
            "536/536 [==============================] - 4s 7ms/step - loss: 0.3604 - accuracy: 0.8494 - val_loss: 0.3737 - val_accuracy: 0.8493\n",
            "Epoch 89/1000\n",
            "536/536 [==============================] - 2s 4ms/step - loss: 0.3652 - accuracy: 0.8464 - val_loss: 0.3741 - val_accuracy: 0.8463\n",
            "Epoch 90/1000\n",
            "536/536 [==============================] - 2s 4ms/step - loss: 0.3605 - accuracy: 0.8515 - val_loss: 0.3762 - val_accuracy: 0.8493\n",
            "Epoch 90: early stopping\n"
          ]
        }
      ],
      "source": [
        "model_history=Classifier.fit(x_train,y_train,validation_split=0.33,batch_size=10,epochs=1000,callbacks=early_stopping)"
      ]
    },
    {
      "cell_type": "code",
      "execution_count": 38,
      "metadata": {
        "colab": {
          "base_uri": "https://localhost:8080/"
        },
        "id": "n4C5Xss0K6Za",
        "outputId": "703c3659-4d7d-4c53-957c-5e6b3b56a5e6"
      },
      "outputs": [
        {
          "output_type": "execute_result",
          "data": {
            "text/plain": [
              "dict_keys(['loss', 'accuracy', 'val_loss', 'val_accuracy'])"
            ]
          },
          "metadata": {},
          "execution_count": 38
        }
      ],
      "source": [
        "model_history.history.keys()"
      ]
    },
    {
      "cell_type": "code",
      "execution_count": 39,
      "metadata": {
        "id": "y_bg-fAgLZ_g"
      },
      "outputs": [],
      "source": [
        "#summarize hitory for accuracy"
      ]
    },
    {
      "cell_type": "code",
      "execution_count": 40,
      "metadata": {
        "colab": {
          "base_uri": "https://localhost:8080/",
          "height": 295
        },
        "id": "WJ-bUcEwMFkn",
        "outputId": "94fb015e-c6bc-462b-cb96-8bc237a7fd6b"
      },
      "outputs": [
        {
          "output_type": "display_data",
          "data": {
            "text/plain": [
              "<Figure size 432x288 with 1 Axes>"
            ],
            "image/png": "[encoded data removed]"
          },
          "metadata": {
            "needs_background": "light"
          }
        }
      ],
      "source": [
        "plt.plot(model_history.history['accuracy'])\n",
        "plt.plot(model_history.history['val_accuracy'])\n",
        "plt.title('model_accuracy')\n",
        "plt.ylabel('accuracy')\n",
        "plt.xlabel('epoch')\n",
        "plt.legend(['train','test'],loc='upper left')\n",
        "plt.show()\n"
      ]
    },
    {
      "cell_type": "code",
      "execution_count": 41,
      "metadata": {
        "id": "pR4f3B1SOG1K"
      },
      "outputs": [],
      "source": [
        "#summarize hitory for loss"
      ]
    },
    {
      "cell_type": "code",
      "execution_count": 42,
      "metadata": {
        "colab": {
          "base_uri": "https://localhost:8080/",
          "height": 295
        },
        "id": "_TB6h1M4OITI",
        "outputId": "beebb10d-38ae-46c4-a7b6-2635f1ad98d9"
      },
      "outputs": [
        {
          "output_type": "display_data",
          "data": {
            "text/plain": [
              "<Figure size 432x288 with 1 Axes>"
            ],
            "image/png": "[encoded data removed]"
          },
          "metadata": {
            "needs_background": "light"
          }
        }
      ],
      "source": [
        "plt.plot(model_history.history['loss'])\n",
        "plt.plot(model_history.history['val_loss'])\n",
        "plt.title('model_loss')\n",
        "plt.ylabel('loss')\n",
        "plt.xlabel('epoch')\n",
        "plt.legend(['train','test'],loc='upper left')\n",
        "plt.show()"
      ]
    },
    {
      "cell_type": "code",
      "execution_count": 43,
      "metadata": {
        "colab": {
          "base_uri": "https://localhost:8080/"
        },
        "id": "vxqHTerrO1eO",
        "outputId": "7bc8c22c-f8fc-4382-9ad9-0d8cc40b9d7c"
      },
      "outputs": [
        {
          "output_type": "stream",
          "name": "stdout",
          "text": [
            "63/63 [==============================] - 0s 2ms/step\n"
          ]
        }
      ],
      "source": [
        "#making predictions and evaluating the model\n",
        "#predicting test set results\n",
        "y_pred=Classifier.predict(x_test)\n",
        "y_pred=(y_pred>0.5)\n",
        "\n"
      ]
    },
    {
      "cell_type": "code",
      "execution_count": 44,
      "metadata": {
        "colab": {
          "base_uri": "https://localhost:8080/"
        },
        "id": "4CIOV5VNO1o9",
        "outputId": "0ef56dda-5d57-479f-9d0b-d4ec81412daf"
      },
      "outputs": [
        {
          "output_type": "stream",
          "name": "stdout",
          "text": [
            "63/63 [==============================] - 0s 1ms/step\n"
          ]
        }
      ],
      "source": [
        "y_pred=Classifier.predict(x_test)\n",
        "y_pred=(y_pred>0.5)\n"
      ]
    },
    {
      "cell_type": "code",
      "execution_count": 45,
      "metadata": {
        "colab": {
          "base_uri": "https://localhost:8080/"
        },
        "id": "pgWyVr28PUTS",
        "outputId": "01a7ade0-c41c-4e56-e0c7-cac0cc629fe7"
      },
      "outputs": [
        {
          "output_type": "execute_result",
          "data": {
            "text/plain": [
              "array([[1558,   37],\n",
              "       [ 251,  154]])"
            ]
          },
          "metadata": {},
          "execution_count": 45
        }
      ],
      "source": [
        "#making confusion matrics\n",
        "from sklearn.metrics import confusion_matrix\n",
        "cm=confusion_matrix(y_test,y_pred)\n",
        "cm\n"
      ]
    },
    {
      "cell_type": "code",
      "execution_count": 46,
      "metadata": {
        "id": "xjqOJdveP8tJ"
      },
      "outputs": [],
      "source": [
        "#calculate accuracy\n",
        "from sklearn.metrics import accuracy_score\n",
        "score=accuracy_score(y_test,y_pred)"
      ]
    },
    {
      "cell_type": "code",
      "execution_count": 47,
      "metadata": {
        "colab": {
          "base_uri": "https://localhost:8080/"
        },
        "id": "AaBb5QWJP8wj",
        "outputId": "48cd8bbc-2542-47a0-aa52-d2444870304d"
      },
      "outputs": [
        {
          "output_type": "execute_result",
          "data": {
            "text/plain": [
              "0.856"
            ]
          },
          "metadata": {},
          "execution_count": 47
        }
      ],
      "source": [
        "score"
      ]
    },
    {
      "cell_type": "code",
      "execution_count": 50,
      "metadata": {
        "colab": {
          "base_uri": "https://localhost:8080/"
        },
        "id": "IXEV2v03PUVn",
        "outputId": "be2ed96c-c1c1-43e4-8712-59f5b5d666aa"
      },
      "outputs": [
        {
          "output_type": "execute_result",
          "data": {
            "text/plain": [
              "<bound method Model.get_weights of <keras.engine.sequential.Sequential object at 0x7fec69376d00>>"
            ]
          },
          "metadata": {},
          "execution_count": 50
        }
      ],
      "source": [
        "#get the weights\n",
        "Classifier.get_weights"
      ]
    },
    {
      "cell_type": "code",
      "execution_count": 48,
      "metadata": {
        "id": "KFsUOH45PUZC"
      },
      "outputs": [],
      "source": [
        "\n"
      ]
    }
  ],
  "metadata": {
    "accelerator": "GPU",
    "colab": {
      "provenance": []
    },
    "gpuClass": "standard",
    "kernelspec": {
      "display_name": "Python 3",
      "name": "python3"
    },
    "language_info": {
      "name": "python"
    }
  },
  "nbformat": 4,
  "nbformat_minor": 0
}